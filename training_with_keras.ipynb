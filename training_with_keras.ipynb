{
 "cells": [
  {
   "cell_type": "code",
   "execution_count": 32,
   "metadata": {},
   "outputs": [],
   "source": [
    "import pandas as pd\n",
    "from pandas import DataFrame\n",
    "from sklearn.preprocessing import minmax_scale, Binarizer\n",
    "import keras\n",
    "\n",
    "windowSize = 6\n",
    "index = windowSize*windowSize*2\n",
    "\n",
    "df = pd.read_csv(\"train.csv\", header=None)\n",
    "df.rename(columns={72: \"X\", 73: \"Y\", 74: \"MSE\"}, inplace=True)\n",
    "\n",
    "X = df.drop(columns=['X', 'Y', 'MSE'])\n",
    "\n",
    "#Y = df[['X', 'Y']]\n",
    "#Y = DataFrame(minmax_scale(Y, axis=0))\n",
    "#Y['nomotion'] = Binarizer(15).transform(df['MSE'].values.reshape(-1, 1))\n",
    "\n",
    "Y = DataFrame(Binarizer(15).transform(df['MSE'].values.reshape(-1, 1)))\n",
    "\n",
    "X = X.values.reshape(-1, 6, 6, 2)"
   ]
  },
  {
   "cell_type": "code",
   "execution_count": 36,
   "metadata": {},
   "outputs": [
    {
     "name": "stdout",
     "output_type": "stream",
     "text": [
      "Train on 268200 samples, validate on 268200 samples\n",
      "Epoch 1/10\n",
      "268200/268200 [==============================] - 27s 101us/sample - loss: 0.6210 - acc: 0.6808 - val_loss: 0.5843 - val_acc: 0.6867\n",
      "Epoch 2/10\n",
      "268200/268200 [==============================] - 27s 102us/sample - loss: 0.5846 - acc: 0.6889 - val_loss: 0.5836 - val_acc: 0.6923\n",
      "Epoch 3/10\n",
      "268200/268200 [==============================] - 28s 103us/sample - loss: 0.5802 - acc: 0.6926 - val_loss: 0.5736 - val_acc: 0.6962\n",
      "Epoch 4/10\n",
      "268200/268200 [==============================] - 28s 106us/sample - loss: 0.5743 - acc: 0.6946 - val_loss: 0.5691 - val_acc: 0.6950\n",
      "Epoch 5/10\n",
      "268200/268200 [==============================] - 28s 104us/sample - loss: 0.5723 - acc: 0.6957 - val_loss: 0.5775 - val_acc: 0.6978\n",
      "Epoch 6/10\n",
      "268200/268200 [==============================] - 28s 105us/sample - loss: 0.5708 - acc: 0.6964 - val_loss: 0.5678 - val_acc: 0.6967\n",
      "Epoch 7/10\n",
      "268200/268200 [==============================] - 28s 105us/sample - loss: 0.5695 - acc: 0.6966 - val_loss: 0.5805 - val_acc: 0.6987\n",
      "Epoch 8/10\n",
      "268200/268200 [==============================] - 28s 103us/sample - loss: 0.5686 - acc: 0.6977 - val_loss: 0.5659 - val_acc: 0.7004\n",
      "Epoch 9/10\n",
      "268200/268200 [==============================] - 28s 106us/sample - loss: 0.5680 - acc: 0.6972 - val_loss: 0.5681 - val_acc: 0.6990\n",
      "Epoch 10/10\n",
      "268200/268200 [==============================] - 28s 106us/sample - loss: 0.5674 - acc: 0.6983 - val_loss: 0.5622 - val_acc: 0.6996\n"
     ]
    },
    {
     "data": {
      "text/plain": [
       "<tensorflow.python.keras.callbacks.History at 0x1324b5860>"
      ]
     },
     "execution_count": 36,
     "metadata": {},
     "output_type": "execute_result"
    }
   ],
   "source": [
    "from tensorflow.keras.models import Sequential\n",
    "from tensorflow.keras.layers import Dense, Conv2D, Flatten\n",
    "\n",
    "model = Sequential()\n",
    "\n",
    "model.add(Conv2D(8, kernel_size=3, activation='relu', input_shape=(6,6,2)))\n",
    "model.add(Conv2D(16, kernel_size=3, activation='relu'))\n",
    "#model.add(Conv2D(16, kernel_size=3, activation='relu'))\n",
    "model.add(Flatten())\n",
    "model.add(Dense(1, activation='sigmoid'))\n",
    "\n",
    "\n",
    "model.compile(optimizer='adam', loss='binary_crossentropy', metrics=['acc'])\n",
    "\n",
    "model.fit(X, Y, validation_data=(X, Y), epochs=10)"
   ]
  },
  {
   "cell_type": "code",
   "execution_count": 22,
   "metadata": {},
   "outputs": [
    {
     "data": {
      "text/html": [
       "<div>\n",
       "<style scoped>\n",
       "    .dataframe tbody tr th:only-of-type {\n",
       "        vertical-align: middle;\n",
       "    }\n",
       "\n",
       "    .dataframe tbody tr th {\n",
       "        vertical-align: top;\n",
       "    }\n",
       "\n",
       "    .dataframe thead th {\n",
       "        text-align: right;\n",
       "    }\n",
       "</style>\n",
       "<table border=\"1\" class=\"dataframe\">\n",
       "  <thead>\n",
       "    <tr style=\"text-align: right;\">\n",
       "      <th></th>\n",
       "      <th>0</th>\n",
       "      <th>1</th>\n",
       "      <th>MV</th>\n",
       "    </tr>\n",
       "  </thead>\n",
       "  <tbody>\n",
       "    <tr>\n",
       "      <th>0</th>\n",
       "      <td>0.5</td>\n",
       "      <td>0.25</td>\n",
       "      <td>1.0</td>\n",
       "    </tr>\n",
       "    <tr>\n",
       "      <th>1</th>\n",
       "      <td>0.5</td>\n",
       "      <td>0.75</td>\n",
       "      <td>0.0</td>\n",
       "    </tr>\n",
       "    <tr>\n",
       "      <th>2</th>\n",
       "      <td>0.5</td>\n",
       "      <td>0.75</td>\n",
       "      <td>0.0</td>\n",
       "    </tr>\n",
       "    <tr>\n",
       "      <th>3</th>\n",
       "      <td>0.5</td>\n",
       "      <td>1.00</td>\n",
       "      <td>1.0</td>\n",
       "    </tr>\n",
       "    <tr>\n",
       "      <th>4</th>\n",
       "      <td>0.5</td>\n",
       "      <td>0.00</td>\n",
       "      <td>0.0</td>\n",
       "    </tr>\n",
       "  </tbody>\n",
       "</table>\n",
       "</div>"
      ],
      "text/plain": [
       "     0     1   MV\n",
       "0  0.5  0.25  1.0\n",
       "1  0.5  0.75  0.0\n",
       "2  0.5  0.75  0.0\n",
       "3  0.5  1.00  1.0\n",
       "4  0.5  0.00  0.0"
      ]
     },
     "execution_count": 22,
     "metadata": {},
     "output_type": "execute_result"
    }
   ],
   "source": []
  },
  {
   "cell_type": "code",
   "execution_count": null,
   "metadata": {},
   "outputs": [],
   "source": []
  }
 ],
 "metadata": {
  "kernelspec": {
   "display_name": "Python 3",
   "language": "python",
   "name": "python3"
  },
  "language_info": {
   "codemirror_mode": {
    "name": "ipython",
    "version": 3
   },
   "file_extension": ".py",
   "mimetype": "text/x-python",
   "name": "python",
   "nbconvert_exporter": "python",
   "pygments_lexer": "ipython3",
   "version": "3.7.3"
  }
 },
 "nbformat": 4,
 "nbformat_minor": 2
}
